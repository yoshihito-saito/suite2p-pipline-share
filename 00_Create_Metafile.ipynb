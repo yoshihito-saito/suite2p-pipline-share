{
 "cells": [
  {
   "cell_type": "code",
   "execution_count": 8,
   "id": "2de7bc73-c242-43e3-afa5-72be2291c13b",
   "metadata": {},
   "outputs": [],
   "source": [
    "import glob, os\n",
    "import shutil\n",
    "from os.path import abspath, join, split\n",
    "import h5py\n",
    "import tkinter\n",
    "from tkinter import filedialog\n",
    "import datetime"
   ]
  },
  {
   "cell_type": "markdown",
   "id": "d3d547f6-9749-40bb-86ac-c77b61e9cb69",
   "metadata": {},
   "source": [
    "## Session information"
   ]
  },
  {
   "cell_type": "code",
   "execution_count": 9,
   "id": "f71c58ed-1c56-4294-880c-1570ca5a4d9a",
   "metadata": {},
   "outputs": [],
   "source": [
    "def fd(initialdir):\n",
    "    root = tkinter.Tk()\n",
    "    foldername = tkinter.filedialog.askdirectory(initialdir=initialdir)\n",
    "    root.withdraw()\n",
    "    return foldername"
   ]
  },
  {
   "cell_type": "code",
   "execution_count": 17,
   "id": "809cc10d-07e1-41f9-b4d9-f04bab4e2645",
   "metadata": {},
   "outputs": [
    {
     "name": "stdout",
     "output_type": "stream",
     "text": [
      "2024-07-11 11:43:01.228358\n",
      "Data Directory: /mnt/Volume3/FASHIO-2PM/with_Uwamori/01_data\n",
      "Session Directory: /mnt/Volume3/FASHIO-2PM/with_Uwamori/01_data/u161_f01/20231201/Exp1\n",
      "Session Analysis Directory: /mnt/Volume3/FASHIO-2PM/with_Uwamori/02_analysis/u161_f01/20231201/Exp1\n"
     ]
    }
   ],
   "source": [
    "mouseID = 'u161_f01'              #e.g., WM000 (Wild type male, index: 000)\n",
    "recordingDate = '20231201'        #e.g., 230411\n",
    "sessionID = 'Exp1'                #e.g., 230411_session01\n",
    "behaviorInfo = 'sponataneous'     #e.g., spontaneous, detection task, awake/sleep\n",
    "\n",
    "sensor='GCaMP7f'            #e.g., GCaMP7.09, GCaMP7f\n",
    "opsin=''                  #e.g., ChRmine, eOPN3\n",
    "recTarget='Soma'            # Soma or Dendrite \n",
    "fs = 15.2\n",
    "resolution = 1024\n",
    "\n",
    "codeDir = os.getcwd()                                               # Directory where suite2p-pipeline excisting\n",
    "dataDir = '/mnt/Volume3/FASHIO-2PM/with_Uwamori/01_data'            # Directory where data folders are excisting\n",
    "sessiondataDir = fd(initialdir = dataDir)                           # Directory where tiff files are excisting\n",
    "analysisDir = sessiondataDir.replace('01_data', '02_analysis')      # Directory where analysis performs\n",
    "\n",
    "analysisDate = str(datetime.datetime.now()) \n",
    "print(analysisDate)\n",
    "\n",
    "print('Data Directory:',dataDir)\n",
    "print('Session Directory:',sessiondataDir)\n",
    "print('Session Analysis Directory:',analysisDir)"
   ]
  },
  {
   "cell_type": "code",
   "execution_count": 18,
   "id": "d48c700f-90e2-41a7-aaf5-a7f87bce84e8",
   "metadata": {},
   "outputs": [],
   "source": [
    "os.makedirs(analysisDir, exist_ok=True)\n",
    "os.makedirs(analysisDir+'/00_Metafile', exist_ok=True)\n",
    "\n",
    "if not os.path.exists(analysisDir+'/01_Suite2p_pipeline_for_SomaImaging.ipynb'):\n",
    "    shutil.copy(codeDir+'/01_Suite2p_pipeline_ver8_SomaImaging.ipynb',  analysisDir)\n",
    "    \n",
    "output_file = analysisDir+'/00_Metafile/metafile.h5'\n",
    "h5file = h5py.File(output_file,'w')\n",
    "h5file.create_group('sessionInfo')\n",
    "\n",
    "h5file.create_dataset('sessionInfo/mouseID',data=mouseID)\n",
    "h5file.create_dataset('sessionInfo/recordingDate',data=recordingDate)\n",
    "h5file.create_dataset('sessionInfo/sessionID',data=sessionID)\n",
    "h5file.create_dataset('sessionInfo/behaviorInfo',data=behaviorInfo)\n",
    "h5file.create_dataset('sessionInfo/sensor',data=sensor)\n",
    "h5file.create_dataset('sessionInfo/opsin',data=opsin)\n",
    "h5file.create_dataset('sessionInfo/recTarget',data=recTarget)\n",
    "h5file.create_dataset('sessionInfo/fs',data=fs)\n",
    "h5file.create_dataset('sessionInfo/resolution',data=resolution)\n",
    "\n",
    "h5file.create_dataset('sessionInfo/codeDir',data=codeDir)\n",
    "h5file.create_dataset('sessionInfo/sessiondataDir',data=sessiondataDir)\n",
    "h5file.create_dataset('sessionInfo/analysisDir',data=analysisDir)\n",
    "h5file.create_dataset('sessionInfo/analysisDate',data=analysisDate)\n",
    "\n",
    "h5file.flush()\n",
    "h5file.close()"
   ]
  },
  {
   "cell_type": "code",
   "execution_count": null,
   "id": "5307d636-b206-4e7d-bd08-bfbe248e47f9",
   "metadata": {},
   "outputs": [],
   "source": []
  }
 ],
 "metadata": {
  "kernelspec": {
   "display_name": "Python 3 (ipykernel)",
   "language": "python",
   "name": "python3"
  },
  "language_info": {
   "codemirror_mode": {
    "name": "ipython",
    "version": 3
   },
   "file_extension": ".py",
   "mimetype": "text/x-python",
   "name": "python",
   "nbconvert_exporter": "python",
   "pygments_lexer": "ipython3",
   "version": "3.12.3"
  }
 },
 "nbformat": 4,
 "nbformat_minor": 5
}
